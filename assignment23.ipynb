{
 "cells": [
  {
   "cell_type": "code",
   "execution_count": 2,
   "id": "e05fc068",
   "metadata": {},
   "outputs": [
    {
     "name": "stdout",
     "output_type": "stream",
     "text": [
      "1 2 8\n"
     ]
    }
   ],
   "source": [
    "#1. What is the result of the code, and why?\n",
    "def func(a, b=6, c=8):\n",
    "    print(a, b, c)\n",
    "func(1, 2)"
   ]
  },
  {
   "cell_type": "markdown",
   "id": "71cc5fe9",
   "metadata": {},
   "source": [
    " In the above function, a takes 1, b takes 2 which is given as the input where as c takes 8 which takes by default as defined in the function"
   ]
  },
  {
   "cell_type": "code",
   "execution_count": 3,
   "id": "72f1d352",
   "metadata": {},
   "outputs": [
    {
     "name": "stdout",
     "output_type": "stream",
     "text": [
      "1 2 3\n"
     ]
    }
   ],
   "source": [
    "#2. What is the result of this code, and why?\n",
    "def func(a, b, c=5):\n",
    "    print(a, b, c)\n",
    "func(1, c=3, b=2)"
   ]
  },
  {
   "cell_type": "markdown",
   "id": "08d6157e",
   "metadata": {},
   "source": [
    "In the above function, a takes 1 as it's given as input, b takes 2 as 2 is given as input, c takes 3 as it's given as input irrespective of the default values defined inside the function"
   ]
  },
  {
   "cell_type": "code",
   "execution_count": 4,
   "id": "900abf76",
   "metadata": {},
   "outputs": [
    {
     "name": "stdout",
     "output_type": "stream",
     "text": [
      "1 (2, 3)\n"
     ]
    }
   ],
   "source": [
    "#3. How about this code: what is its result, and why?\n",
    "def func(a, *pargs):\n",
    "    print(a, pargs)\n",
    "func(1, 2, 3)"
   ]
  },
  {
   "cell_type": "markdown",
   "id": "20f61732",
   "metadata": {},
   "source": [
    "In the above function a takes 1 as it's given as input, whereas the argument *pargs is a non keyworded argument which takes any number of inputs because of which 2,3 where taken a non-keyworded input as argument is passed in function"
   ]
  },
  {
   "cell_type": "code",
   "execution_count": 5,
   "id": "5438fcb7",
   "metadata": {},
   "outputs": [
    {
     "name": "stdout",
     "output_type": "stream",
     "text": [
      "1 {'c': 3, 'b': 2}\n"
     ]
    }
   ],
   "source": [
    "#4. What does this code print, and why?\n",
    "def func(a, **kargs):\n",
    "    print(a, kargs)\n",
    "func(a=1, c=3, b=2)"
   ]
  },
  {
   "cell_type": "markdown",
   "id": "abb9b2fc",
   "metadata": {},
   "source": [
    "In the above function a takes 1 as it's given as input where c and b as given as input as 3 and 2 and the **kargs is passed as a argument in function it returns the key worded arguments and it returns key value pair in the output"
   ]
  },
  {
   "cell_type": "code",
   "execution_count": 6,
   "id": "75d70981",
   "metadata": {},
   "outputs": [
    {
     "name": "stdout",
     "output_type": "stream",
     "text": [
      "1 5 6 5\n"
     ]
    }
   ],
   "source": [
    "#5. What gets printed by this, and explain?\n",
    "def func(a, b, c=8, d=5): \n",
    "    print(a, b, c, d)\n",
    "func(1, *(5, 6))"
   ]
  },
  {
   "cell_type": "markdown",
   "id": "81b57f3c",
   "metadata": {},
   "source": [
    "The function func is defined with four parameters: a, b, c, and d. The default values for c and d are 8 and 5, respectively.\n",
    "\n",
    "The function is called with the arguments 1 and *(5, 6). The * operator is used to unpack the tuple (5, 6) into two separate arguments. So the function call is equivalent to func(1, 5, 6).\n",
    "\n",
    "Inside the function, the values of a, b, c, and d are printed using the print statement. The value of a is 1, the value of b is 5, the value of c is 6 (because it overrides the default value of 8), and the value of d is 5 (because it uses the default value of 5).\n",
    "\n",
    "So the output of the function call func(1, *(5, 6)) will be 1 5 6 5."
   ]
  },
  {
   "cell_type": "code",
   "execution_count": 9,
   "id": "87e5e5ab",
   "metadata": {},
   "outputs": [],
   "source": [
    "#6. what is the result of this, and explain?\n",
    "def func(a, b, c): \n",
    "    a = 2 \n",
    "    b[0]=\"x\" \n",
    "    c[\"a\"]=\"y\"\n",
    "l=1; m=[1]; n={\"a\":0}\n",
    "func(l, m, n)"
   ]
  },
  {
   "cell_type": "code",
   "execution_count": 10,
   "id": "fac391a0",
   "metadata": {},
   "outputs": [
    {
     "data": {
      "text/plain": [
       "(1, ['x'], {'a': 'y'})"
      ]
     },
     "execution_count": 10,
     "metadata": {},
     "output_type": "execute_result"
    }
   ],
   "source": [
    "l,m,n"
   ]
  },
  {
   "cell_type": "markdown",
   "id": "cf8dab7f",
   "metadata": {},
   "source": [
    "Three variables are defined: l is an integer with the value 1, m is a list containing a single integer with the value 1, and n is a dictionary with a single key-value pair (\"a\", 0).\n",
    "\n",
    "The function func is called with the arguments l, m, and n.\n",
    "\n",
    "Inside the function, the value of a is set to 2, which does not affect the value of l outside the function because integers are immutable.\n",
    "\n",
    "The first element of the list b is set to \"x\", which does affect the value of m outside the function because lists are mutable.\n",
    "\n",
    "The value of the key \"a\" in the dictionary c is set to \"y\", which does affect the value of \"n\" outside the function because dictionaries are mutable.\n",
    "\n",
    "The function func does not return anything, so the return value of the function call is None."
   ]
  },
  {
   "cell_type": "code",
   "execution_count": null,
   "id": "5fa503b8",
   "metadata": {},
   "outputs": [],
   "source": []
  }
 ],
 "metadata": {
  "kernelspec": {
   "display_name": "Python 3",
   "language": "python",
   "name": "python3"
  },
  "language_info": {
   "codemirror_mode": {
    "name": "ipython",
    "version": 3
   },
   "file_extension": ".py",
   "mimetype": "text/x-python",
   "name": "python",
   "nbconvert_exporter": "python",
   "pygments_lexer": "ipython3",
   "version": "3.9.13"
  }
 },
 "nbformat": 4,
 "nbformat_minor": 5
}
