{
 "cells": [
  {
   "cell_type": "markdown",
   "metadata": {},
   "source": [
    "####  1. What is the name of the feature responsible for generating Regex objects?"
   ]
  },
  {
   "cell_type": "markdown",
   "metadata": {},
   "source": [
    "Ans: re.compile() function generates Regex objects"
   ]
  },
  {
   "cell_type": "markdown",
   "metadata": {},
   "source": [
    "#### 2. Why do raw strings often appear in Regex objects?"
   ]
  },
  {
   "cell_type": "markdown",
   "metadata": {},
   "source": [
    "Ans: The Raw strings are often used so that backslashes do not have to be escaped"
   ]
  },
  {
   "cell_type": "markdown",
   "metadata": {},
   "source": [
    "#### 3. What is the return value of the search() method?"
   ]
  },
  {
   "cell_type": "markdown",
   "metadata": {},
   "source": [
    "Ans: The search() method returns the match objects"
   ]
  },
  {
   "cell_type": "code",
   "execution_count": 2,
   "metadata": {},
   "outputs": [
    {
     "name": "stdout",
     "output_type": "stream",
     "text": [
      "<re.Match object; span=(19, 31), match='Data Science'>\n"
     ]
    }
   ],
   "source": [
    "#ex: \n",
    "import re\n",
    "\n",
    "txt = \"iNeuron Full stack Data Science 2.0 program\"\n",
    "\n",
    "x = re.search(\"Data Science\", txt)\n",
    "\n",
    "print(x)"
   ]
  },
  {
   "cell_type": "markdown",
   "metadata": {},
   "source": [
    "#### 4. From a Match item, how do you get the actual strings that match the pattern?"
   ]
  },
  {
   "cell_type": "markdown",
   "metadata": {},
   "source": [
    "Ans: The group() method returns strings of the matched object"
   ]
  },
  {
   "cell_type": "code",
   "execution_count": 19,
   "metadata": {},
   "outputs": [
    {
     "name": "stdout",
     "output_type": "stream",
     "text": [
      "2642\n",
      "('957', '396', '2642')\n"
     ]
    }
   ],
   "source": [
    "import re\n",
    "\n",
    "phone_number = re.compile(r'(\\d\\d\\d)-(\\d\\d\\d)-(\\d\\d\\d\\d)')\n",
    "\n",
    "mo = phone_number.search(\"My number is 957-396-2642\")\n",
    "\n",
    "print(mo.group(3))\n",
    "print(mo.groups())"
   ]
  },
  {
   "cell_type": "markdown",
   "metadata": {},
   "source": [
    "#### 5. In the regex which created from the r&#39;(\\d\\d\\d)-(\\d\\d\\d-\\d\\d\\d\\d)&#39;, what does group zero cover? Group 2? Group 1?"
   ]
  },
  {
   "cell_type": "markdown",
   "metadata": {},
   "source": [
    "Ans: Group 0 is the entire match, group 1 covers the first set of parentheses, and group 2 covers the second set of parentheses."
   ]
  },
  {
   "cell_type": "code",
   "execution_count": 22,
   "metadata": {},
   "outputs": [
    {
     "name": "stdout",
     "output_type": "stream",
     "text": [
      "957-396-2642\n",
      "957\n",
      "396-2642\n"
     ]
    }
   ],
   "source": [
    "import re\n",
    "\n",
    "phone_number = re.compile(r'(\\d\\d\\d)-(\\d\\d\\d-\\d\\d\\d\\d)')\n",
    "\n",
    "mo = phone_number.search(\"My number is 957-396-2642\")\n",
    "\n",
    "print(mo.group(0))\n",
    "print(mo.group(1))\n",
    "print(mo.group(2))"
   ]
  },
  {
   "cell_type": "markdown",
   "metadata": {},
   "source": [
    "#### 6. In standard expression syntax, parentheses and intervals have distinct meanings. How can you tell a regex that you want it to fit real parentheses and periods?"
   ]
  },
  {
   "cell_type": "code",
   "execution_count": 23,
   "metadata": {},
   "outputs": [],
   "source": [
    "# Ans: Periods and parentheses can be escaped with a backslash: \\., \\(, and \\)."
   ]
  },
  {
   "cell_type": "markdown",
   "metadata": {},
   "source": [
    "#### 7. The findall() method returns a string list or a list of string tuples. What causes it to return one of the two options?"
   ]
  },
  {
   "cell_type": "markdown",
   "metadata": {},
   "source": [
    "Ans: If the regex has no groups, a list of strings is returned. If the regex has groups, a list of tuples of strings is returned."
   ]
  },
  {
   "cell_type": "code",
   "execution_count": 28,
   "metadata": {},
   "outputs": [
    {
     "name": "stdout",
     "output_type": "stream",
     "text": [
      "['Science 2']\n"
     ]
    }
   ],
   "source": [
    "import re\n",
    "\n",
    "regex = r\"[a-zA-Z]+ \\d+\" #without groups\n",
    "txt = \"iNeuron Full stack Data Science 2.0 program\"\n",
    "print(re.findall(regex,txt))"
   ]
  },
  {
   "cell_type": "code",
   "execution_count": 29,
   "metadata": {},
   "outputs": [
    {
     "name": "stdout",
     "output_type": "stream",
     "text": [
      "[('Science', '2')]\n"
     ]
    }
   ],
   "source": [
    "import re\n",
    "\n",
    "regex = r\"([a-zA-Z]+) (\\d+)\" #with groups\n",
    "txt = \"iNeuron Full stack Data Science 2.0 program\"\n",
    "print(re.findall(regex,txt))"
   ]
  },
  {
   "cell_type": "markdown",
   "metadata": {},
   "source": [
    "#### 8. In standard expressions, what does the | character mean?"
   ]
  },
  {
   "cell_type": "markdown",
   "metadata": {},
   "source": [
    "Ans: The | character signifies matching \"either, or\" between two groups."
   ]
  },
  {
   "cell_type": "code",
   "execution_count": 34,
   "metadata": {},
   "outputs": [
    {
     "name": "stdout",
     "output_type": "stream",
     "text": [
      "Batman\n"
     ]
    }
   ],
   "source": [
    "#ex \n",
    "\n",
    "import re\n",
    "heroRegex = re.compile (r'Batman|Tina Fey')\n",
    "mo1 = heroRegex.search('Batman and Tina Fey.')\n",
    "print(mo1.group())"
   ]
  },
  {
   "cell_type": "markdown",
   "metadata": {},
   "source": [
    "#### 9. In regular expressions, what does the character stand for?"
   ]
  },
  {
   "cell_type": "markdown",
   "metadata": {},
   "source": [
    "Ans: The | character signifies matching \"either, or\" between two groups."
   ]
  },
  {
   "cell_type": "markdown",
   "metadata": {},
   "source": [
    "#### 10. In regular expressions, what is the difference between the + and * characters?"
   ]
  },
  {
   "cell_type": "code",
   "execution_count": 43,
   "metadata": {},
   "outputs": [
    {
     "ename": "AttributeError",
     "evalue": "'NoneType' object has no attribute 'group'",
     "output_type": "error",
     "traceback": [
      "\u001b[1;31m---------------------------------------------------------------------------\u001b[0m",
      "\u001b[1;31mAttributeError\u001b[0m                            Traceback (most recent call last)",
      "\u001b[1;32m<ipython-input-43-32fb92caa1ca>\u001b[0m in \u001b[0;36m<module>\u001b[1;34m\u001b[0m\n\u001b[0;32m      4\u001b[0m \u001b[0mtext\u001b[0m\u001b[1;33m=\u001b[0m\u001b[1;34m\"xx12   3xx\"\u001b[0m\u001b[1;33m\u001b[0m\u001b[1;33m\u001b[0m\u001b[0m\n\u001b[0;32m      5\u001b[0m \u001b[0mmatch\u001b[0m \u001b[1;33m=\u001b[0m \u001b[0mre\u001b[0m\u001b[1;33m.\u001b[0m\u001b[0msearch\u001b[0m\u001b[1;33m(\u001b[0m\u001b[1;34mr'\\d\\s+\\d\\s+\\d'\u001b[0m\u001b[1;33m,\u001b[0m\u001b[0mtext\u001b[0m\u001b[1;33m)\u001b[0m\u001b[1;33m\u001b[0m\u001b[1;33m\u001b[0m\u001b[0m\n\u001b[1;32m----> 6\u001b[1;33m \u001b[0mmatch\u001b[0m\u001b[1;33m.\u001b[0m\u001b[0mgroup\u001b[0m\u001b[1;33m(\u001b[0m\u001b[1;33m)\u001b[0m\u001b[1;33m\u001b[0m\u001b[1;33m\u001b[0m\u001b[0m\n\u001b[0m",
      "\u001b[1;31mAttributeError\u001b[0m: 'NoneType' object has no attribute 'group'"
     ]
    }
   ],
   "source": [
    "#ex:\n",
    "\n",
    "import re\n",
    "text=\"xx12   3xx\" #zero spaces didn't work as \"+\" states one or more times\n",
    "match = re.search(r'\\d\\s+\\d\\s+\\d',text)\n",
    "match.group()"
   ]
  },
  {
   "cell_type": "code",
   "execution_count": 45,
   "metadata": {},
   "outputs": [
    {
     "data": {
      "text/plain": [
       "'1 2   3'"
      ]
     },
     "execution_count": 45,
     "metadata": {},
     "output_type": "execute_result"
    }
   ],
   "source": [
    "import re\n",
    "text=\"xx1 2   3xx\" #one space worked as \"+\" states one or more times\n",
    "match = re.search(r'\\d\\s+\\d\\s+\\d',text)\n",
    "match.group()"
   ]
  },
  {
   "cell_type": "code",
   "execution_count": 44,
   "metadata": {},
   "outputs": [
    {
     "data": {
      "text/plain": [
       "'12   3'"
      ]
     },
     "execution_count": 44,
     "metadata": {},
     "output_type": "execute_result"
    }
   ],
   "source": [
    "import re\n",
    "text=\"xx12   3xx\" #zero spaces worked as it's zero or more times\n",
    "match = re.search(r'\\d\\s*\\d\\s*\\d',text)\n",
    "match.group()"
   ]
  },
  {
   "cell_type": "markdown",
   "metadata": {},
   "source": [
    "Ans: They both mark the previous expression and + saying “one or more times” while * is “zero or more times” and both trying to match the maximum amount."
   ]
  },
  {
   "cell_type": "markdown",
   "metadata": {},
   "source": [
    "#### 11. What is the difference between {4} and {4,5} in regular expression?"
   ]
  },
  {
   "cell_type": "markdown",
   "metadata": {},
   "source": [
    "Ans: The {4} matches exactly four instances of the preceeding group wheras {4,5} matches between 4 and 5 instances. "
   ]
  },
  {
   "cell_type": "markdown",
   "metadata": {},
   "source": [
    "#### 12. What do you mean by the \\d, \\w, and \\s shorthand character classes signify in regular expressions?"
   ]
  },
  {
   "cell_type": "markdown",
   "metadata": {},
   "source": [
    "Ans: The \\d, \\w, and \\s shorthand character classes match a single digit, word, or space character, respectively."
   ]
  },
  {
   "cell_type": "markdown",
   "metadata": {},
   "source": [
    "#### 13. What do means by \\D, \\W, and \\S shorthand character classes signify in regular expressions?"
   ]
  },
  {
   "cell_type": "markdown",
   "metadata": {},
   "source": [
    "Ans: The \\D, \\W, and \\S shorthand character classes match a single character that is not a digit, word, or space character, respectively."
   ]
  },
  {
   "cell_type": "code",
   "execution_count": 46,
   "metadata": {},
   "outputs": [],
   "source": [
    "# 14. What is the difference between .*? and .*?"
   ]
  },
  {
   "cell_type": "markdown",
   "metadata": {},
   "source": [
    "Ans: The .* performs a greedy match, and the .*? performs a nongreedy match."
   ]
  },
  {
   "cell_type": "markdown",
   "metadata": {},
   "source": [
    "#### 15. What is the syntax for matching both numbers and lowercase letters with a character class?"
   ]
  },
  {
   "cell_type": "markdown",
   "metadata": {},
   "source": [
    "Ans: It's Either [0-9a-z] or [a-z0-9]"
   ]
  },
  {
   "cell_type": "markdown",
   "metadata": {},
   "source": [
    "#### 16. What is the procedure for making a normal expression in regax case insensitive?"
   ]
  },
  {
   "cell_type": "markdown",
   "metadata": {},
   "source": [
    "Ans: If we assign re.IGNORECASE as a parameter in regular expression calls to do case insensitive regular expressions."
   ]
  },
  {
   "cell_type": "code",
   "execution_count": 50,
   "metadata": {},
   "outputs": [
    {
     "name": "stdout",
     "output_type": "stream",
     "text": [
      "<re.Match object; span=(19, 31), match='Data Science'>\n"
     ]
    }
   ],
   "source": [
    "#ex\n",
    "\n",
    "import re\n",
    "\n",
    "txt = \"iNeuron Full stack Data Science 2.0 program\"\n",
    "\n",
    "x = re.search(\"DATa SCIeNce\", txt, re.IGNORECASE) \n",
    "\n",
    "print(x)"
   ]
  },
  {
   "cell_type": "markdown",
   "metadata": {},
   "source": [
    "#### 17. What does the . character normally match? What does it match if re.DOTALL is passed as 2nd argument in re.compile()?"
   ]
  },
  {
   "cell_type": "markdown",
   "metadata": {},
   "source": [
    "Ans: The . character normally matches any character except the newline character. If re.DOTALL is passed as the second argument to re.compile(), then the dot will also match newline characters."
   ]
  },
  {
   "cell_type": "markdown",
   "metadata": {},
   "source": [
    "#### 18. If numReg = re.compile(r&#39;\\d+&#39;), what will numRegex.sub(&#39;X&#39;, &#39;11 drummers, 10 pipers, five rings, 4hen&#39;) return?"
   ]
  },
  {
   "cell_type": "code",
   "execution_count": 56,
   "metadata": {},
   "outputs": [
    {
     "data": {
      "text/plain": [
       "'X drummers, X pipers, five rings, X hen'"
      ]
     },
     "execution_count": 56,
     "metadata": {},
     "output_type": "execute_result"
    }
   ],
   "source": [
    "numReg = re.compile(r'\\d+')\n",
    "\n",
    "numReg.sub('X', '11 drummers, 10 pipers, five rings, 4 hen')"
   ]
  },
  {
   "cell_type": "markdown",
   "metadata": {},
   "source": [
    "#### 19. What does passing re.VERBOSE as the 2nd argument to re.compile() allow to do?"
   ]
  },
  {
   "cell_type": "markdown",
   "metadata": {},
   "source": [
    "Ans: The re.VERBOSE argument allows you to add whitespace and comments to the string passed to re.compile()"
   ]
  },
  {
   "cell_type": "code",
   "execution_count": 57,
   "metadata": {},
   "outputs": [],
   "source": [
    "# 20. How would you write a regex that match a number with comma for every three digits? It must match the given following:"
   ]
  },
  {
   "cell_type": "code",
   "execution_count": 3,
   "metadata": {},
   "outputs": [
    {
     "data": {
      "text/plain": [
       "'1234'"
      ]
     },
     "execution_count": 3,
     "metadata": {},
     "output_type": "execute_result"
    }
   ],
   "source": [
    "\"42\"\n",
    "\"1,234\"\n",
    "\"6,368,745\"\n",
    "\n",
    "#but not the following\n",
    "\n",
    "\"12,34,567\" #(which has only two digits between the commas)\n",
    "\"1234\" #(which lacks commas)\n"
   ]
  },
  {
   "cell_type": "code",
   "execution_count": 4,
   "metadata": {},
   "outputs": [
    {
     "data": {
      "text/plain": [
       "re.compile(r'^\\d{1,3}(,\\d{3})*$', re.UNICODE)"
      ]
     },
     "execution_count": 4,
     "metadata": {},
     "output_type": "execute_result"
    }
   ],
   "source": [
    "re.compile(r'^\\d{1,3}(,\\d{3})*$')"
   ]
  },
  {
   "cell_type": "markdown",
   "metadata": {},
   "source": [
    "Ans: re.compile(r'^\\d{1,3}(,\\d{3})*$') will create this regex, but other regex strings can produce a similar regular expression."
   ]
  },
  {
   "cell_type": "markdown",
   "metadata": {},
   "source": [
    "#### 21. How would you write a regex that matches the full name of someone whose last name is Watanabe? You can assume that the first name that comes before it will always be one word that begins with a capital letter. The regex must match the following:\n",
    "&#39;Haruto Watanabe&#39;\n",
    "\n",
    "&#39;Alice Watanabe&#39;\n",
    "\n",
    "&#39;RoboCop Watanabe&#39;\n",
    "\n",
    "but not the following:\n",
    "\n",
    "&#39;haruto Watanabe&#39; (where the first name is not capitalized)\n",
    "\n",
    "&#39;Mr. Watanabe&#39; (where the preceding word has a nonletter character)\n",
    "\n",
    "&#39;Watanabe&#39; (which has no first name)\n",
    "\n",
    "&#39;Haruto watanabe&#39; (where Watanabe is not capitalized)"
   ]
  },
  {
   "cell_type": "code",
   "execution_count": 6,
   "metadata": {},
   "outputs": [
    {
     "data": {
      "text/plain": [
       "re.compile(r'[A-Z][a-z]*\\s Watanabe', re.UNICODE)"
      ]
     },
     "execution_count": 6,
     "metadata": {},
     "output_type": "execute_result"
    }
   ],
   "source": [
    "#Ans:\n",
    "re.compile(r'[A-Z][a-z]*\\s Watanabe')"
   ]
  },
  {
   "cell_type": "markdown",
   "metadata": {},
   "source": [
    "#### 22. How would you write a regex that matches a sentence where the first word is either Alice, Bob, or Carol; the second word is either eats, pets, or throws; the third word is apples, cats, or baseballs; and the sentence ends with a period? This regex should be case-insensitive. It must match the following:\n",
    "\n",
    "&#39;Alice eats apples.&#39;\n",
    "\n",
    "&#39;Bob pets cats.&#39;\n",
    "\n",
    "&#39;Carol throws baseballs.&#39;\n",
    "\n",
    "&#39;Alice throws Apples.&#39;\n",
    "\n",
    "&#39;BOB EATS CATS.&#39;\n",
    "\n",
    "but not the following:\n",
    "\n",
    "&#39;RoboCop eats apples.&#39;\n",
    "\n",
    "&#39;ALICE THROWS FOOTBALLS.&#39;\n",
    "\n",
    "&#39;Carol eats 7 cats.&#39;"
   ]
  },
  {
   "cell_type": "code",
   "execution_count": 8,
   "metadata": {},
   "outputs": [
    {
     "data": {
      "text/plain": [
       "re.compile(r'(Alice|Bob|Carol)\\s(eats|pets|throws)\\s(apples|cats|baseballs)\\.',\n",
       "re.IGNORECASE|re.UNICODE)"
      ]
     },
     "execution_count": 8,
     "metadata": {},
     "output_type": "execute_result"
    }
   ],
   "source": [
    "#Ans:\n",
    "re.compile(r'(Alice|Bob|Carol)\\s(eats|pets|throws)\\s(apples|cats|baseballs)\\.', re.IGNORECASE)"
   ]
  },
  {
   "cell_type": "code",
   "execution_count": null,
   "metadata": {},
   "outputs": [],
   "source": []
  }
 ],
 "metadata": {
  "kernelspec": {
   "display_name": "Python 3",
   "language": "python",
   "name": "python3"
  },
  "language_info": {
   "codemirror_mode": {
    "name": "ipython",
    "version": 3
   },
   "file_extension": ".py",
   "mimetype": "text/x-python",
   "name": "python",
   "nbconvert_exporter": "python",
   "pygments_lexer": "ipython3",
   "version": "3.8.5"
  }
 },
 "nbformat": 4,
 "nbformat_minor": 4
}
