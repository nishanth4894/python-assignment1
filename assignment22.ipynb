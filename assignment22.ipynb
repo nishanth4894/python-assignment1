{
 "cells": [
  {
   "cell_type": "code",
   "execution_count": 1,
   "id": "34770e40",
   "metadata": {},
   "outputs": [
    {
     "name": "stdout",
     "output_type": "stream",
     "text": [
      "iNeuron\n"
     ]
    }
   ],
   "source": [
    "#1. What is the result of the code, and explain?\n",
    "\n",
    "X = \"iNeuron\"\n",
    "def func():\n",
    "    print(X)\n",
    "\n",
    "func()"
   ]
  },
  {
   "cell_type": "markdown",
   "id": "1e9ccc9f",
   "metadata": {},
   "source": [
    "The variable X is defined as a global variable outside the function func. The function func then accesses and prints the value of X.\n",
    "\n",
    "When the function func is called with func(), it will print the value of X, which is \"iNeuron\". This is because the function func is able to access the global variable X.\n",
    "\n",
    "So the output of the function call func() will be iNeuron."
   ]
  },
  {
   "cell_type": "code",
   "execution_count": 3,
   "id": "c4cb4581",
   "metadata": {},
   "outputs": [
    {
     "name": "stdout",
     "output_type": "stream",
     "text": [
      "iNeuron\n"
     ]
    }
   ],
   "source": [
    "#2. What is the result of the code, and explain?\n",
    "\n",
    "X = \"iNeuron\"\n",
    "def func():\n",
    "    X = \"NI!\"\n",
    "\n",
    "func()\n",
    "print(X)"
   ]
  },
  {
   "cell_type": "markdown",
   "id": "d74d1616",
   "metadata": {},
   "source": [
    "The variable X is defined as a global variable outside the function func. The function func then defines a local variable X with the value \"NI!\".\n",
    "\n",
    "When the function func is called with func(), it defines the local variable X with the value \"NI!\", but does not return or print anything. The global variable X is not modified.\n",
    "\n",
    "After the function call, the print statement prints the value of the global variable X, which is still \"iNeuron\". This is because the local variable X defined inside the function func only exists within the function's scope and does not affect the global variable X.\n",
    "\n",
    "So the output of the code will be iNeuron."
   ]
  },
  {
   "cell_type": "code",
   "execution_count": 4,
   "id": "842d7719",
   "metadata": {},
   "outputs": [
    {
     "name": "stdout",
     "output_type": "stream",
     "text": [
      "NI\n",
      "iNeuron\n"
     ]
    }
   ],
   "source": [
    "#3. What does this code print, and why?\n",
    "\n",
    "X = \"iNeuron\"\n",
    "def func():\n",
    "    X = \"NI\"\n",
    "    print(X)\n",
    "\n",
    "func()\n",
    "print(X)"
   ]
  },
  {
   "cell_type": "markdown",
   "id": "c8ec0d81",
   "metadata": {},
   "source": [
    "The variable X is defined as a global variable outside the function func. The function func then defines a local variable X with the value \"NI\", and then prints the value of the local variable X.\n",
    "\n",
    "When the function func is called with func(), it defines the local variable X with the value \"NI\", and then prints the value of the local variable X, which is \"NI\".\n",
    "\n",
    "After the function call, the print statement prints the value of the global variable X, which is still \"iNeuron\". This is because the local variable X defined inside the function func only exists within the function's scope and does not affect the global variable X."
   ]
  },
  {
   "cell_type": "code",
   "execution_count": 5,
   "id": "1a81e7cc",
   "metadata": {},
   "outputs": [
    {
     "name": "stdout",
     "output_type": "stream",
     "text": [
      "NI\n"
     ]
    }
   ],
   "source": [
    "#4. What output does this code produce? Why?\n",
    "\n",
    "X = \"iNeuron\"\n",
    "def func():\n",
    "    global X\n",
    "    X = \"NI\"\n",
    "\n",
    "func()\n",
    "print(X)"
   ]
  },
  {
   "cell_type": "markdown",
   "id": "9ecbee10",
   "metadata": {},
   "source": [
    "X is defined as a global variable outside the function func. The function func then uses the global keyword to declare that it wants to modify the global variable X, and sets its value to \"NI\".\n",
    "\n",
    "When the function func is called with func(), it modifies the global variable X to have the value \"NI\".\n",
    "\n",
    "After the function call, the print statement prints the value of the global variable X, which is now \"NI\". This is because the function func modified the value of the global variable X.\n",
    "\n",
    "So the output of the code will be NI."
   ]
  },
  {
   "cell_type": "code",
   "execution_count": 10,
   "id": "49e842e6",
   "metadata": {},
   "outputs": [
    {
     "name": "stdout",
     "output_type": "stream",
     "text": [
      "iNeuron\n"
     ]
    },
    {
     "data": {
      "text/plain": [
       "'iNeuron'"
      ]
     },
     "execution_count": 10,
     "metadata": {},
     "output_type": "execute_result"
    }
   ],
   "source": [
    "#5. What about this code—what’s the output, and why?\n",
    "\n",
    "X = \"iNeuron\"\n",
    "def func():\n",
    "    X = \"NI\"\n",
    "def nested():\n",
    "    print(X)\n",
    "nested()\n",
    "\n",
    "func()\n",
    "X"
   ]
  },
  {
   "cell_type": "markdown",
   "id": "f1a9d4a7",
   "metadata": {},
   "source": [
    "X is defined as a global variable outside the function func. The function func then defines a local variable X with the value \"NI\", but does not return or print anything.\n",
    "\n",
    "There is also a function nested defined outside the func function, which attempts to print the value of the global variable X.\n",
    "\n",
    "After the function nested is called with nested(), it attempts to print the value of the global variable X, which is \"iNeuron\". This is because the local variable X defined inside the func function only exists within the function's scope and does not affect the global variable X.\n",
    "\n",
    "The last line of the code simply prints the value of the global variable X, which is still \"iNeuron\".\n",
    "\n",
    "Note that the function func is called after the nested function, but it does not affect the output of the code since the local variable X defined inside the func function is not used."
   ]
  },
  {
   "cell_type": "code",
   "execution_count": 16,
   "id": "1dd7ba6c",
   "metadata": {},
   "outputs": [
    {
     "ename": "SyntaxError",
     "evalue": "no binding for nonlocal 'X' found (2850346768.py, line 6)",
     "output_type": "error",
     "traceback": [
      "\u001b[1;36m  File \u001b[1;32m\"C:\\Users\\Hp\\AppData\\Local\\Temp\\ipykernel_13660\\2850346768.py\"\u001b[1;36m, line \u001b[1;32m6\u001b[0m\n\u001b[1;33m    nonlocal X\u001b[0m\n\u001b[1;37m    ^\u001b[0m\n\u001b[1;31mSyntaxError\u001b[0m\u001b[1;31m:\u001b[0m no binding for nonlocal 'X' found\n"
     ]
    }
   ],
   "source": [
    "#6. How about this code: what is its output in Python 3, and explain?\n",
    "\n",
    "def func():\n",
    "    X = \"NI\"\n",
    "def nested():\n",
    "    nonlocal X\n",
    "    X = \"Spam\"\n",
    "nested()\n",
    "print(X)\n",
    "\n",
    "func()"
   ]
  },
  {
   "cell_type": "markdown",
   "id": "85708834",
   "metadata": {},
   "source": [
    "The code will raise an error when executed because the variable X is not defined in the global scope or the scope of the nested function.\n",
    "\n",
    "In the func function, the variable X is defined locally within the function and is not returned or used anywhere else. Therefore, the value of X is not accessible outside of the function.\n",
    "\n",
    "In the nested function, nonlocal X is used to indicate that the variable X is defined in a higher level scope (in this case, the func function). However, since X is not defined in func, an error will occur when trying to access it.\n",
    "\n",
    "When func() is called, it defines X with the value \"NI\", but because X is not returned or used elsewhere, this value is not visible or accessible outside of the func function.\n",
    "\n",
    "Therefore, when print(X) is called outside of func and nested, it will raise an error because X is not defined in the current scope."
   ]
  },
  {
   "cell_type": "code",
   "execution_count": null,
   "id": "df13f18d",
   "metadata": {},
   "outputs": [],
   "source": []
  }
 ],
 "metadata": {
  "kernelspec": {
   "display_name": "Python 3",
   "language": "python",
   "name": "python3"
  },
  "language_info": {
   "codemirror_mode": {
    "name": "ipython",
    "version": 3
   },
   "file_extension": ".py",
   "mimetype": "text/x-python",
   "name": "python",
   "nbconvert_exporter": "python",
   "pygments_lexer": "ipython3",
   "version": "3.9.13"
  }
 },
 "nbformat": 4,
 "nbformat_minor": 5
}
