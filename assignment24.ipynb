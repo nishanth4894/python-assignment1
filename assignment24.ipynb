{
 "cells": [
  {
   "cell_type": "markdown",
   "id": "ebc622b6",
   "metadata": {},
   "source": [
    "#### 1. What is the relationship between def statements and lambda expressions ?"
   ]
  },
  {
   "cell_type": "markdown",
   "id": "0db2565d",
   "metadata": {},
   "source": [
    "\"def\" statements are used to define named functions with a block of code that can be reused multiple times in a program. def statements always have a name, and can have zero or more parameters, and a return statement to return a value."
   ]
  },
  {
   "cell_type": "code",
   "execution_count": 1,
   "id": "285af646",
   "metadata": {},
   "outputs": [
    {
     "name": "stdout",
     "output_type": "stream",
     "text": [
      "9\n"
     ]
    }
   ],
   "source": [
    "#ex:\n",
    "def square(x):\n",
    "    return x**2\n",
    "\n",
    "print(square(3))"
   ]
  },
  {
   "cell_type": "markdown",
   "id": "1b701c2b",
   "metadata": {},
   "source": [
    "\"lambda\" expressions are used to define anonymous functions that can be used inline in a program without being assigned to a name. lambda expressions are often used to define simple functions that take one or more arguments and return a value, without the need for a named function."
   ]
  },
  {
   "cell_type": "code",
   "execution_count": 3,
   "id": "9576d60c",
   "metadata": {},
   "outputs": [
    {
     "name": "stdout",
     "output_type": "stream",
     "text": [
      "9\n"
     ]
    }
   ],
   "source": [
    "square = lambda x: x**2\n",
    "print(square(3))"
   ]
  },
  {
   "cell_type": "markdown",
   "id": "f09ac9cd",
   "metadata": {},
   "source": [
    "#### 2. What is the benefit of lambda?"
   ]
  },
  {
   "cell_type": "code",
   "execution_count": 9,
   "id": "696b0462",
   "metadata": {},
   "outputs": [
    {
     "name": "stdout",
     "output_type": "stream",
     "text": [
      "[1, 4, 9, 16, 25]\n"
     ]
    }
   ],
   "source": [
    "## The advantage over the def statement is you don't need to write a name for it.\n",
    "## Lambda function is used we use a simple and precise function and don't wish to use it again.\n",
    "\n",
    "## ex:\n",
    "\n",
    "numbers = [1, 2, 3, 4, 5]\n",
    "squared_numbers = list(map(lambda x: x**2, numbers))\n",
    "print(squared_numbers) "
   ]
  },
  {
   "cell_type": "markdown",
   "id": "1e7bda99",
   "metadata": {},
   "source": [
    "#### 3. Compare and contrast map, filter, and reduce."
   ]
  },
  {
   "cell_type": "markdown",
   "id": "7ff909c5",
   "metadata": {},
   "source": [
    "The map() function iterates through all items in the given iterable and executes the function we passed as an argument on each of them."
   ]
  },
  {
   "cell_type": "code",
   "execution_count": 11,
   "id": "739e0781",
   "metadata": {},
   "outputs": [
    {
     "name": "stdout",
     "output_type": "stream",
     "text": [
      "[True, False, False, True, False]\n"
     ]
    }
   ],
   "source": [
    "fruit = [\"Apple\", \"Banana\", \"Pear\", \"Apricot\", \"Orange\"]\n",
    "map_object = map(lambda s: s[0] == \"A\", fruit)\n",
    "\n",
    "print(list(map_object))\n"
   ]
  },
  {
   "cell_type": "markdown",
   "id": "9e2a12c6",
   "metadata": {},
   "source": [
    "filter() forms a new list that contains only elements that satisfy a certain condition, i.e. the function we passed returns True."
   ]
  },
  {
   "cell_type": "code",
   "execution_count": 12,
   "id": "1713b8d8",
   "metadata": {},
   "outputs": [
    {
     "name": "stdout",
     "output_type": "stream",
     "text": [
      "['Apple', 'Apricot']\n"
     ]
    }
   ],
   "source": [
    "fruit = [\"Apple\", \"Banana\", \"Pear\", \"Apricot\", \"Orange\"]\n",
    "filter_object = filter(lambda s: s[0] == \"A\", fruit)\n",
    "\n",
    "print(list(filter_object))"
   ]
  },
  {
   "cell_type": "markdown",
   "id": "875fac65",
   "metadata": {},
   "source": [
    "reduce() works differently than map() and filter(). It does not return a new list based on the function and iterable we've passed. Instead, it returns a single value."
   ]
  },
  {
   "cell_type": "code",
   "execution_count": 13,
   "id": "55aea3aa",
   "metadata": {},
   "outputs": [
    {
     "name": "stdout",
     "output_type": "stream",
     "text": [
      "16\n"
     ]
    }
   ],
   "source": [
    "from functools import reduce\n",
    "\n",
    "def add(x, y):\n",
    "    return x + y\n",
    "\n",
    "list = [2, 4, 7, 3]\n",
    "print(reduce(add, list))"
   ]
  },
  {
   "cell_type": "markdown",
   "id": "e099d7f9",
   "metadata": {},
   "source": [
    "#### 4. What are function annotations, and how are they used?"
   ]
  },
  {
   "cell_type": "markdown",
   "id": "fcaf786e",
   "metadata": {},
   "source": [
    "Python Function Annotations are exactly what they sound like, annotations for your functions. These annotations come in two types, parameter annotations and return type annotations.\n",
    "\n",
    "One large benefit is that they can provide much needed explanation to the reader as to what type a function parameter expects or a function returns."
   ]
  },
  {
   "cell_type": "code",
   "execution_count": 14,
   "id": "5b9177de",
   "metadata": {},
   "outputs": [],
   "source": [
    "def greet(name: str, age: int) -> str:\n",
    "    return f\"Hello, {name}! You are {age} years old.\"\n"
   ]
  },
  {
   "cell_type": "markdown",
   "id": "9fb15d4b",
   "metadata": {},
   "source": [
    "#### 5. What are recursive functions, and how are they used?"
   ]
  },
  {
   "cell_type": "markdown",
   "id": "e0891778",
   "metadata": {},
   "source": [
    "Recursive functions are functions that call themselves, either directly or indirectly, to solve a problem by breaking it down into smaller subproblems."
   ]
  },
  {
   "cell_type": "code",
   "execution_count": 16,
   "id": "e3042afb",
   "metadata": {},
   "outputs": [
    {
     "name": "stdout",
     "output_type": "stream",
     "text": [
      "3\n",
      "2\n",
      "1\n"
     ]
    }
   ],
   "source": [
    "def count_down(start):\n",
    "    \"\"\" Count down from a number  \"\"\"\n",
    "    print(start)\n",
    "\n",
    "    # call the count_down if the next\n",
    "    # number is greater than 0\n",
    "    next = start - 1\n",
    "    if next > 0:\n",
    "        count_down(next)\n",
    "\n",
    "\n",
    "count_down(3)"
   ]
  },
  {
   "cell_type": "markdown",
   "id": "46afe216",
   "metadata": {},
   "source": [
    "#### 6. What are some general design guidelines for coding functions?"
   ]
  },
  {
   "cell_type": "markdown",
   "id": "e89292de",
   "metadata": {},
   "source": [
    "Use descriptive and meaningful names: Function names should clearly indicate what the function does. Use verbs for function names, such as calculate or process,| and use nouns for variable names, such as result or value.\n",
    "\n",
    "Write simple and concise functions: A function should do one thing and do it well. If a function is too long or complex, consider breaking it down into smaller sub-functions.\n",
    "\n",
    "Use function arguments and return values effectively: Functions should take arguments when necessary and return values as appropriate. Avoid using global variables in functions as they can lead to unintended side-effects.\n",
    "\n",
    "Write functions that are reusable and modular: Functions should be designed to be reusable in other parts of the code, and they should be easy to modify and maintain. Consider using object-oriented design principles and modular programming techniques to make your code more modular and extensible."
   ]
  },
  {
   "cell_type": "markdown",
   "id": "d568f867",
   "metadata": {},
   "source": [
    "#### 7. Name three or more ways that functions can communicate results to a caller."
   ]
  },
  {
   "cell_type": "markdown",
   "id": "a1d412f9",
   "metadata": {},
   "source": [
    "Return statement: Functions can use the return statement to return a value to the caller. The value can be a single value, a tuple, or any other data type.\n",
    "\n",
    "Functions can modify mutable objects, such as lists or dictionaries, and the changes can be observed by the caller.\n",
    "\n",
    "Functions can modify global variables, which can be observed by the caller. However, using global variables can make the code harder to read and maintain, so it should be used sparingly."
   ]
  },
  {
   "cell_type": "code",
   "execution_count": null,
   "id": "a77a8f17",
   "metadata": {},
   "outputs": [],
   "source": []
  }
 ],
 "metadata": {
  "kernelspec": {
   "display_name": "Python 3",
   "language": "python",
   "name": "python3"
  },
  "language_info": {
   "codemirror_mode": {
    "name": "ipython",
    "version": 3
   },
   "file_extension": ".py",
   "mimetype": "text/x-python",
   "name": "python",
   "nbconvert_exporter": "python",
   "pygments_lexer": "ipython3",
   "version": "3.9.13"
  }
 },
 "nbformat": 4,
 "nbformat_minor": 5
}
